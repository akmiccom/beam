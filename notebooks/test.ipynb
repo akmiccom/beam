{
 "cells": [
  {
   "cell_type": "markdown",
   "metadata": {},
   "source": [
    "https://zenn.dev/halmet7000/articles/000fe097378382#%E7%90%86%E8%A7%A3%E3%81%AE%E8%A3%9C%E5%8A%A9(%E4%BA%8C%E9%9A%8E%E5%BE%AE%E5%88%86%E6%96%B9%E7%A8%8B%E5%BC%8F%E3%82%92sympy%E3%81%A7%E6%AE%B5%E9%9A%8E%E7%9A%84%E3%81%AB%E8%A7%A3%E3%81%8F)"
   ]
  },
  {
   "cell_type": "code",
   "execution_count": 76,
   "metadata": {},
   "outputs": [
    {
     "data": {
      "text/latex": [
       "$\\displaystyle y{\\left(x \\right)}$"
      ],
      "text/plain": [
       "y(x)"
      ]
     },
     "execution_count": 76,
     "metadata": {},
     "output_type": "execute_result"
    }
   ],
   "source": [
    "from sympy import pprint, Function, dsolve, Eq, Derivative, symbols\n",
    "\n",
    "# 変数と未知関数の定義\n",
    "x = symbols('x')\n",
    "l, P, E, I1, I2 = symbols('l P E I1 I2')\n",
    "y = Function(\"y\")(x)\n",
    "y"
   ]
  },
  {
   "cell_type": "code",
   "execution_count": 77,
   "metadata": {},
   "outputs": [
    {
     "data": {
      "text/latex": [
       "$\\displaystyle \\operatorname{dy/dx1}{\\left(x \\right)}$"
      ],
      "text/plain": [
       "dy/dx1(x)"
      ]
     },
     "execution_count": 77,
     "metadata": {},
     "output_type": "execute_result"
    }
   ],
   "source": [
    "# 一階微分：dy/dx\n",
    "dy_dx1 = Function('dy/dx1')(x)\n",
    "dy_dx1"
   ]
  },
  {
   "cell_type": "code",
   "execution_count": 78,
   "metadata": {},
   "outputs": [
    {
     "data": {
      "text/latex": [
       "$\\displaystyle \\frac{d}{d x} \\operatorname{dy/dx1}{\\left(x \\right)} = - \\frac{P x}{E I_{1}}$"
      ],
      "text/plain": [
       "Eq(Derivative(dy/dx1(x), x), -P*x/(E*I1))"
      ]
     },
     "execution_count": 78,
     "metadata": {},
     "output_type": "execute_result"
    }
   ],
   "source": [
    "# 二階微分方程式をdy/dxで一階微分方程式として作る\n",
    "# d2y/dx2=x\n",
    "eq1 = Eq(Derivative(dy_dx1, x), -x*P/E/I1)\n",
    "eq1"
   ]
  },
  {
   "cell_type": "code",
   "execution_count": 79,
   "metadata": {},
   "outputs": [
    {
     "data": {
      "text/latex": [
       "$\\displaystyle \\operatorname{dy/dx1}{\\left(x \\right)} = \\frac{P l^{2}}{2 E I_{1}} - \\frac{P x^{2}}{2 E I_{1}}$"
      ],
      "text/plain": [
       "Eq(dy/dx1(x), P*l**2/(2*E*I1) - P*x**2/(2*E*I1))"
      ]
     },
     "execution_count": 79,
     "metadata": {},
     "output_type": "execute_result"
    }
   ],
   "source": [
    "# 境界条件を考慮して解く\n",
    "dy_dx_sol1 = dsolve(\n",
    "    eq1,\n",
    "    func=dy_dx1,\n",
    "    ics={dy_dx1.subs(x, l): 0} # 初期条件\n",
    ")\n",
    "dy_dx_sol1"
   ]
  },
  {
   "cell_type": "code",
   "execution_count": 80,
   "metadata": {},
   "outputs": [
    {
     "data": {
      "text/latex": [
       "$\\displaystyle \\frac{d}{d x} y{\\left(x \\right)} = \\frac{P l^{2}}{2 E I_{1}} - \\frac{P x^{2}}{2 E I_{1}}$"
      ],
      "text/plain": [
       "Eq(Derivative(y(x), x), P*l**2/(2*E*I1) - P*x**2/(2*E*I1))"
      ]
     },
     "execution_count": 80,
     "metadata": {},
     "output_type": "execute_result"
    }
   ],
   "source": [
    "# 得られた解を使って二階微分方程式を再構築\n",
    "eq2 = Eq(Derivative(y, x), dy_dx_sol1.rhs)\n",
    "eq2"
   ]
  },
  {
   "cell_type": "code",
   "execution_count": 82,
   "metadata": {},
   "outputs": [
    {
     "data": {
      "text/latex": [
       "$\\displaystyle y{\\left(x \\right)} = - \\frac{P l^{3}}{3 E I_{1}} + \\frac{P l^{2} x}{2 E I_{1}} - \\frac{P x^{3}}{6 E I_{1}}$"
      ],
      "text/plain": [
       "Eq(y(x), -P*l**3/(3*E*I1) + P*l**2*x/(2*E*I1) - P*x**3/(6*E*I1))"
      ]
     },
     "execution_count": 82,
     "metadata": {},
     "output_type": "execute_result"
    }
   ],
   "source": [
    "# 境界条件を考慮して解く\n",
    "y_sol1 = dsolve(\n",
    "    eq2,\n",
    "    func=y,\n",
    "    ics={y.subs(x, l): 0}\n",
    ")\n",
    "y_sol1"
   ]
  },
  {
   "cell_type": "code",
   "execution_count": null,
   "metadata": {},
   "outputs": [],
   "source": []
  },
  {
   "cell_type": "code",
   "execution_count": null,
   "metadata": {},
   "outputs": [],
   "source": []
  },
  {
   "cell_type": "code",
   "execution_count": null,
   "metadata": {},
   "outputs": [],
   "source": []
  },
  {
   "cell_type": "code",
   "execution_count": null,
   "metadata": {},
   "outputs": [],
   "source": []
  },
  {
   "cell_type": "code",
   "execution_count": 39,
   "metadata": {},
   "outputs": [
    {
     "data": {
      "text/latex": [
       "$\\displaystyle y{\\left(x \\right)} = C_{1} + C_{2} x + \\frac{L P x^{2}}{2 E I} - \\frac{P x^{3}}{6 E I}$"
      ],
      "text/plain": [
       "Eq(y(x), C1 + C2*x + L*P*x**2/(2*E*I) - P*x**3/(6*E*I))"
      ]
     },
     "execution_count": 39,
     "metadata": {},
     "output_type": "execute_result"
    }
   ],
   "source": [
    "from sympy import symbols, Function, dsolve, Eq, Derivative\n",
    "\n",
    "# 変数と定数の定義\n",
    "x, L, P, E, I = symbols('x L P E I')\n",
    "y = Function('y')(x)\n",
    "\n",
    "# モーメント M(x) = P(L - x)\n",
    "M = P * (L - x)\n",
    "\n",
    "# 2階微分方程式 EI * d2y/dx2 = M(x)\n",
    "eq = Eq(E * I * Derivative(y, x, x), M)\n",
    "\n",
    "# 一般解を求める\n",
    "y_sol = dsolve(eq)\n",
    "y_sol\n",
    "\n",
    "# # 初期条件\n",
    "# # 端が固定されているため、x=0でy(0)=0およびdy/dx(0)=0\n",
    "# ics = {y.subs(x, 0): 0, y_sol.rhs.diff(x).subs(x, 0): 0}\n",
    "\n",
    "# # 初期条件を用いて微分方程式を解く\n",
    "# y_sol_with_ics = dsolve(eq, ics=ics)\n",
    "\n",
    "# # 結果を表示\n",
    "# y_sol_with_ics\n"
   ]
  },
  {
   "cell_type": "code",
   "execution_count": 42,
   "metadata": {},
   "outputs": [
    {
     "data": {
      "text/latex": [
       "$\\displaystyle y{\\left(x \\right)} = \\frac{L P x^{2}}{2 E I} - \\frac{P x^{3}}{6 E I}$"
      ],
      "text/plain": [
       "Eq(y(x), L*P*x**2/(2*E*I) - P*x**3/(6*E*I))"
      ]
     },
     "execution_count": 42,
     "metadata": {},
     "output_type": "execute_result"
    }
   ],
   "source": [
    "from sympy import symbols, Function, dsolve, Eq, Derivative\n",
    "\n",
    "# 変数と定数の定義\n",
    "x, L, P, E, I = symbols('x L P E I')\n",
    "y = Function('y')(x)\n",
    "\n",
    "# モーメント M(x) = P(L - x)\n",
    "M = P * (L - x)\n",
    "\n",
    "# 2階微分方程式 EI * d2y/dx2 = M(x)\n",
    "eq = Eq(E * I * Derivative(y, x, x), M)\n",
    "\n",
    "# 一般解を求める\n",
    "y_sol = dsolve(eq)\n",
    "\n",
    "# 初期条件を正しい形式で指定\n",
    "# y(0) = 0 および dy/dx(0) = 0 (端部固定)\n",
    "ics = {y.subs(x, 0): 0, Derivative(y, x).subs(x, 0): 0}\n",
    "\n",
    "# 初期条件を用いて微分方程式を解く\n",
    "y_sol_with_ics = dsolve(eq, ics=ics)\n",
    "\n",
    "# 結果を表示\n",
    "y_sol_with_ics\n"
   ]
  },
  {
   "cell_type": "code",
   "execution_count": 43,
   "metadata": {},
   "outputs": [
    {
     "data": {
      "text/latex": [
       "$\\displaystyle y{\\left(x \\right)} = C_{1} x + C_{2} + \\frac{L P x^{2}}{2 E I} - \\frac{P x^{3}}{6 E I}$"
      ],
      "text/plain": [
       "Eq(y(x), C1*x + C2 + L*P*x**2/(2*E*I) - P*x**3/(6*E*I))"
      ]
     },
     "execution_count": 43,
     "metadata": {},
     "output_type": "execute_result"
    }
   ],
   "source": [
    "from sympy import symbols, Function, dsolve, Eq, Derivative\n",
    "\n",
    "# 変数と定数の定義\n",
    "x, L, P, E, I = symbols('x L P E I')\n",
    "y = Function(\"y\")(x)\n",
    "dy_dx = Function('dy/dx')(x)\n",
    "\n",
    "# モーメント M(x) = P(L - x)\n",
    "M = P * (L - x)\n",
    "\n",
    "# 2階微分方程式 EI * d2y/dx2 = M(x)\n",
    "eq1 = Eq(E * I * Derivative(dy_dx, x), M)\n",
    "\n",
    "# 一階微分方程式を解く\n",
    "dy_dx_sol = dsolve(eq1, func=dy_dx)\n",
    "\n",
    "# 得られた解を使って元のたわみ方程式を再構築\n",
    "eq2 = Eq(Derivative(y, x), dy_dx_sol.rhs)\n",
    "\n",
    "# 2階微分方程式の一般解を求める\n",
    "y_sol = dsolve(eq2, func=y)\n",
    "\n",
    "# 結果を表示\n",
    "y_sol\n"
   ]
  }
 ],
 "metadata": {
  "kernelspec": {
   "display_name": "Python 3",
   "language": "python",
   "name": "python3"
  },
  "language_info": {
   "codemirror_mode": {
    "name": "ipython",
    "version": 3
   },
   "file_extension": ".py",
   "mimetype": "text/x-python",
   "name": "python",
   "nbconvert_exporter": "python",
   "pygments_lexer": "ipython3",
   "version": "3.11.9"
  }
 },
 "nbformat": 4,
 "nbformat_minor": 2
}
